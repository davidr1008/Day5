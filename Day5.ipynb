{
  "nbformat": 4,
  "nbformat_minor": 0,
  "metadata": {
    "colab": {
      "name": "Untitled1.ipynb",
      "provenance": [],
      "authorship_tag": "ABX9TyNRYd9xo9hItjyqXL2AKaZg",
      "include_colab_link": true
    },
    "kernelspec": {
      "name": "python3",
      "display_name": "Python 3"
    },
    "language_info": {
      "name": "python"
    }
  },
  "cells": [
    {
      "cell_type": "markdown",
      "metadata": {
        "id": "view-in-github",
        "colab_type": "text"
      },
      "source": [
        "<a href=\"https://colab.research.google.com/github/davidr1008/Day5/blob/main/Day5.ipynb\" target=\"_parent\"><img src=\"https://colab.research.google.com/assets/colab-badge.svg\" alt=\"Open In Colab\"/></a>"
      ]
    },
    {
      "cell_type": "code",
      "metadata": {
        "id": "NodQ6eHIrUmV"
      },
      "source": [
        "#Importing libraries\n",
        "\n",
        "import numpy as np\n",
        "import matplotlib.pyplot as plt\n",
        "import pandas as pd\n"
      ],
      "execution_count": 3,
      "outputs": []
    },
    {
      "cell_type": "code",
      "metadata": {
        "id": "ByJoNOipux4C"
      },
      "source": [
        "#import the dataset\n",
        "\n",
        "dataset = pd.read_csv(\"/content/Salary_Data.csv\")"
      ],
      "execution_count": 5,
      "outputs": []
    },
    {
      "cell_type": "code",
      "metadata": {
        "id": "9yDAJvyBu6SJ"
      },
      "source": [
        "x = dataset.iloc[:, :-1].values\n",
        "y = dataset.iloc[:, -1].values\n"
      ],
      "execution_count": 7,
      "outputs": []
    },
    {
      "cell_type": "code",
      "metadata": {
        "id": "tScXvKsfvEDf"
      },
      "source": [
        "#Split the dataset into test and train sets\n",
        "from sklearn.model_selection import train_test_split\n",
        "\n",
        "x_train, x_test, y_train, y_test = train_test_split(x, y, test_size = 1/3)"
      ],
      "execution_count": 8,
      "outputs": []
    },
    {
      "cell_type": "code",
      "metadata": {
        "colab": {
          "base_uri": "https://localhost:8080/"
        },
        "id": "U8wSRKSIvGZ9",
        "outputId": "2221c9f0-8baa-4e9a-e12a-d722a2ba7e5c"
      },
      "source": [
        "print(x_train)\n",
        "print(x_test)\n",
        "print(y_train)\n",
        "print(y_test)"
      ],
      "execution_count": 9,
      "outputs": [
        {
          "output_type": "stream",
          "text": [
            "[[ 7.9]\n",
            " [ 5.1]\n",
            " [ 6. ]\n",
            " [10.5]\n",
            " [ 2. ]\n",
            " [ 4.9]\n",
            " [ 4.5]\n",
            " [ 8.2]\n",
            " [ 4.1]\n",
            " [ 2.9]\n",
            " [ 2.2]\n",
            " [ 9. ]\n",
            " [ 7.1]\n",
            " [ 3. ]\n",
            " [ 3.2]\n",
            " [ 1.3]\n",
            " [ 3.2]\n",
            " [ 4. ]\n",
            " [ 9.5]\n",
            " [ 9.6]]\n",
            "[[ 5.3]\n",
            " [ 5.9]\n",
            " [10.3]\n",
            " [ 6.8]\n",
            " [ 3.9]\n",
            " [ 4. ]\n",
            " [ 3.7]\n",
            " [ 1.1]\n",
            " [ 8.7]\n",
            " [ 1.5]]\n",
            "[101302.  66029.  93940. 121872.  43525.  67938.  61111. 113812.  57081.\n",
            "  56642.  39891. 105582.  98273.  60150.  64445.  46205.  54445.  55794.\n",
            " 116969. 112635.]\n",
            "[ 83088.  81363. 122391.  91738.  63218.  56957.  57189.  39343. 109431.\n",
            "  37731.]\n"
          ],
          "name": "stdout"
        }
      ]
    },
    {
      "cell_type": "code",
      "metadata": {
        "colab": {
          "base_uri": "https://localhost:8080/"
        },
        "id": "I4RPFAhgvINI",
        "outputId": "fb9280e0-33f4-46fb-ef60-688a1bb2f53e"
      },
      "source": [
        "#training the simple linear regression model\n",
        "\n",
        "from sklearn.linear_model import LinearRegression\n",
        "slr = LinearRegression()\n",
        "slr.fit(x_train, y_train)"
      ],
      "execution_count": 10,
      "outputs": [
        {
          "output_type": "execute_result",
          "data": {
            "text/plain": [
              "LinearRegression(copy_X=True, fit_intercept=True, n_jobs=None, normalize=False)"
            ]
          },
          "metadata": {
            "tags": []
          },
          "execution_count": 10
        }
      ]
    },
    {
      "cell_type": "code",
      "metadata": {
        "id": "Tekdd-juvJ9H"
      },
      "source": [
        "#Predictin the test set results\n",
        "\n",
        "y_pred = slr.predict(x_test)"
      ],
      "execution_count": 13,
      "outputs": []
    },
    {
      "cell_type": "code",
      "metadata": {
        "colab": {
          "base_uri": "https://localhost:8080/"
        },
        "id": "QgIFr_NkvO1o",
        "outputId": "8e6165c8-5efd-4d45-d9be-8c3a0513dae5"
      },
      "source": [
        "y_pred"
      ],
      "execution_count": 14,
      "outputs": [
        {
          "output_type": "execute_result",
          "data": {
            "text/plain": [
              "array([ 75851.22371646,  81473.91253577, 122706.96387738,  89907.94576473,\n",
              "        62731.6164714 ,  63668.73127462,  60857.38686497,  36492.40198129,\n",
              "       107713.12702588,  40240.86119416])"
            ]
          },
          "metadata": {
            "tags": []
          },
          "execution_count": 14
        }
      ]
    },
    {
      "cell_type": "code",
      "metadata": {
        "id": "WFKZgBF6vV4k"
      },
      "source": [
        "[ 60150.  63218.  61111.  98273.  37731.  46205.  39891.  56957. 116969.\n",
        "  83088.]"
      ],
      "execution_count": null,
      "outputs": []
    },
    {
      "cell_type": "code",
      "metadata": {
        "colab": {
          "base_uri": "https://localhost:8080/"
        },
        "id": "eHHIwsxRvXwG",
        "outputId": "05073bdb-7a0d-481c-ff0c-1d1b043eb719"
      },
      "source": [
        "x_test"
      ],
      "execution_count": 16,
      "outputs": [
        {
          "output_type": "execute_result",
          "data": {
            "text/plain": [
              "array([[ 5.3],\n",
              "       [ 5.9],\n",
              "       [10.3],\n",
              "       [ 6.8],\n",
              "       [ 3.9],\n",
              "       [ 4. ],\n",
              "       [ 3.7],\n",
              "       [ 1.1],\n",
              "       [ 8.7],\n",
              "       [ 1.5]])"
            ]
          },
          "metadata": {
            "tags": []
          },
          "execution_count": 16
        }
      ]
    },
    {
      "cell_type": "code",
      "metadata": {
        "colab": {
          "base_uri": "https://localhost:8080/",
          "height": 295
        },
        "id": "6Y5LcsBVvbu_",
        "outputId": "8de098e4-7ca0-4687-c8ed-9a394ea8cc88"
      },
      "source": [
        "#Visualize the training set data\n",
        "\n",
        "plt.scatter(x_train, y_train, color = \"blue\")\n",
        "plt.plot(x_train, slr.predict(x_train), color = \"green\")\n",
        "plt.title(\"Simple Linear Regression Model\")\n",
        "plt.xlabel(\"Experience\")\n",
        "plt.ylabel(\"Salary\")\n",
        "\n",
        "plt.show()"
      ],
      "execution_count": 15,
      "outputs": [
        {
          "output_type": "display_data",
          "data": {
            "image/png": "[encoded data removed]",
            "text/plain": [
              "<Figure size 432x288 with 1 Axes>"
            ]
          },
          "metadata": {
            "tags": [],
            "needs_background": "light"
          }
        }
      ]
    },
    {
      "cell_type": "code",
      "metadata": {
        "colab": {
          "base_uri": "https://localhost:8080/",
          "height": 295
        },
        "id": "RyrauTsDvf3V",
        "outputId": "db3d9e54-d82d-4bde-f482-0782fe56d8dd"
      },
      "source": [
        "#Visualize the test set data\n",
        "\n",
        "plt.scatter(x_test, y_test, color = \"blue\")\n",
        "plt.plot(x_train, slr.predict(x_train), color = \"green\")\n",
        "plt.title(\"Simple Linear Regression Model\")\n",
        "plt.xlabel(\"Experience\")\n",
        "plt.ylabel(\"Salary\")\n",
        "\n",
        "plt.show()\n"
      ],
      "execution_count": 17,
      "outputs": [
        {
          "output_type": "display_data",
          "data": {
            "image/png": "[encoded data removed]",
            "text/plain": [
              "<Figure size 432x288 with 1 Axes>"
            ]
          },
          "metadata": {
            "tags": [],
            "needs_background": "light"
          }
        }
      ]
    }
  ]
}